{
 "cells": [
  {
   "cell_type": "markdown",
   "metadata": {},
   "source": [
    "# Macro AR Tubulence"
   ]
  },
  {
   "cell_type": "code",
   "execution_count": 208,
   "metadata": {},
   "outputs": [],
   "source": [
    "from numpy.linalg import LinAlgError\n",
    "import warnings\n",
    "from datetime import datetime as dt\n",
    "from datetime import timedelta\n",
    "import numpy as np\n",
    "import pandas as pd\n",
    "import datetime\n",
    "import quandl as q\n",
    "import random\n",
    "import statsmodels.regression\n",
    "from numpy import linalg as LA\n",
    "from scipy.stats import norm\n",
    "from numpy.linalg import inv\n",
    "from numpy.linalg import cond\n",
    "warnings.filterwarnings(action=\"ignore\", message=\"unclosed\", \n",
    "                         category=ResourceWarning)\n"
   ]
  },
  {
   "cell_type": "code",
   "execution_count": 197,
   "metadata": {},
   "outputs": [],
   "source": [
    "def get_weekday(start,end):\n",
    "    s = pd.date_range(start, end, freq='D').to_series()\n",
    "    result = list(s.dt.dayofweek[s.dt.dayofweek<=4].index)\n",
    "    return result"
   ]
  },
  {
   "cell_type": "code",
   "execution_count": 198,
   "metadata": {},
   "outputs": [],
   "source": [
    "# Return data download function\n",
    "def get_return(stock, start, end):\n",
    "    ## input \"stock symbol\", \"start date\", \"end date\", output daily return in dataframe\n",
    "    q.ApiConfig.api_key = 'Ufux_HxUXZKAgFjxWhGi'\n",
    "    stock = 'EOD/'+ stock\n",
    "    #get adj_close price\n",
    "    close = q.get(stock,start_date=start, end_date=end, collapse = \"daily\", column_index='11')\n",
    "    dat = pd.DataFrame(index = get_weekday(start,end))\n",
    "    dat.index.name = 'Date'\n",
    "    dat = pd.concat([dat,close],sort=False,axis=1)\n",
    "    dat = dat.fillna(method='backfill')\n",
    "    n = len(dat)\n",
    "    temp = 0\n",
    "    ret=[]\n",
    "    for i in range(5,n):\n",
    "        close_now = dat.iloc[i,:].values[0]\n",
    "        temp = pd.to_datetime(dat.index[i].to_pydatetime()-timedelta(days=7))\n",
    "        close_before = dat.loc[temp].values[0]\n",
    "        ret.append(np.log(close_now)-np.log(close_before))\n",
    "    dat = dat.iloc[5:,:]\n",
    "    \n",
    "    dat['log_ret'] = ret\n",
    "    return dat"
   ]
  },
  {
   "cell_type": "code",
   "execution_count": 199,
   "metadata": {},
   "outputs": [],
   "source": [
    "# Pick the ticker(longest) that has the most data (for the date to be longest)\n",
    "def get_Data(tickers, start, end):\n",
    "\n",
    "    longest = 0\n",
    "    long = 0\n",
    "    for i in tickers:\n",
    "        ereturn = get_return(i, start, end)\n",
    "        if len(ereturn) >= long:\n",
    "            long = len(ereturn)\n",
    "            longest = i\n",
    "\n",
    "    # Generate the return matrix\n",
    "    Data = get_return(longest, start, end)\n",
    "    dat = pd.DataFrame(index= Data.index)\n",
    "    for i in tickers:\n",
    "        step = get_return(i, start, end)['log_ret'].values\n",
    "        dat[i] = step\n",
    "\n",
    "    dat = dat.fillna(0)\n",
    "    dat = dat.iloc[:-1,:]\n",
    "    return dat"
   ]
  },
  {
   "cell_type": "code",
   "execution_count": 200,
   "metadata": {},
   "outputs": [],
   "source": [
    "def correlation_in_market(tickers,start,end):\n",
    "    X = get_Data(tickers, start, end)\n",
    "    corr = X.corr()\n",
    "    html= corr.style.background_gradient(cmap='coolwarm',axis=None).render()\n",
    "    return corr,a"
   ]
  },
  {
   "cell_type": "code",
   "execution_count": 203,
   "metadata": {},
   "outputs": [],
   "source": [
    "def norm_turb(Data,cutoff=1/5):\n",
    "    Tur = []\n",
    "    \n",
    "    # before cutoff of total data \"cheating\" mean and covariance matrix\n",
    "    len_all = len(Data)\n",
    "    len_before = int(len(Data)*cutoff)\n",
    "    Data_before = Data.iloc[0:len_before]\n",
    "    data0 = np.array(Data_before).T\n",
    "    cov0 = np.cov(data0)\n",
    "\n",
    "    if np.isfinite(cond(cov0)):\n",
    "        covinv0 = inv(cov0)\n",
    "        mean0 = np.array(np.mean(Data_before))\n",
    "    else:\n",
    "        for i in range(len(Data_before),len(Data)):\n",
    "            if (any(x==0 for x in Data.iloc[i])==0):\n",
    "                Data_before1 = Data.iloc[0:i+100]\n",
    "                data1 = np.array(Data_before1).T\n",
    "                cov1 = np.cov(data1)\n",
    "                covinv0 = np.matrix(inv(cov1))\n",
    "                mean0 = np.array(np.mean(Data_before1))\n",
    "                len_before = int(len(Data_before1))\n",
    "                Data_before = Data_before1\n",
    "                break\n",
    "  \n",
    "    for i in range(0,len_before):\n",
    "        x0 = np.matrix(Data.iloc[i]-mean0)\n",
    "        y0 = x0*covinv0*x0.T\n",
    "        Tur.append(y0[0,0])\n",
    "    # after curoff data, real historical\n",
    "    for i in range(len_before,len_all):\n",
    "        Data_aft = Data.iloc[0:i-1]\n",
    "        data = np.array(Data_aft).T\n",
    "        cov = np.cov(data)\n",
    "        covinv = np.matrix(inv(cov))\n",
    "        mean = np.array(np.mean(Data_aft))\n",
    "        x = np.matrix(Data.iloc[i]-mean)\n",
    "        y = x*covinv*x.T\n",
    "        Tur.append(y[0,0])\n",
    "        #any([math.isnan(x) for x in Tur])\n",
    "    # Generate the normalized Turbulence\n",
    "    Z_tur = (Tur-np.mean(Tur))/np.std(Tur)\n",
    "    NormT = norm.cdf(Z_tur)\n",
    "    \n",
    "    return NormT   "
   ]
  },
  {
   "cell_type": "code",
   "execution_count": 204,
   "metadata": {},
   "outputs": [],
   "source": [
    "# Function for normalized AR\n",
    "def norm_AR(Data,tickers,windows=500):\n",
    "    date = Data.index.tolist()\n",
    "    \n",
    "    #df of numerator with all sectors\n",
    "    #weighted moving average (WMA) for variance calculation\n",
    "    eigen_list = []\n",
    "    for i in range(len(date)-windows):\n",
    "        Data1 = np.array(Data.iloc[i:i+windows]).T\n",
    "        Cov = np.cov(Data1)\n",
    "        w, v = LA.eig(Cov)\n",
    "        eigen_list.append(w)\n",
    "\n",
    "    df_eigen = pd.DataFrame(eigen_list)\n",
    "    ewm_eigen = df_eigen.ewm(halflife=windows/2).mean()\n",
    "    num = ewm_eigen.iloc[:,0:round(len(tickers)/5)].sum(axis=1)\n",
    "    #num = df_eigen.iloc[:,0:round(len(tickers)/5)].sum(axis=1)\n",
    "    \n",
    "    #df of denominator with all sectors\n",
    "    #exponentially weighted moving average (EWMA) for variance calculation\n",
    "    Data_2 = Data**2\n",
    "    ewma_data_2 = Data_2.ewm(halflife=windows/2,adjust=False).mean()\n",
    "    # ewma var matrix (denom add up to 8 tickers on each trading day)\n",
    "    denom = ewma_data_2.iloc[windows:len(num)+windows].sum(axis=1)\n",
    "\n",
    "    #AR=num/denom,standard normalization\n",
    "    AR = np.array(num)/np.array(denom)\n",
    "    norm_AR = norm.cdf((AR-np.mean(AR))/np.std(AR))\n",
    "    \n",
    "    return norm_AR"
   ]
  },
  {
   "cell_type": "code",
   "execution_count": 205,
   "metadata": {},
   "outputs": [],
   "source": [
    "def get_tb_dataframe(market_dict,start,end):\n",
    "    tb_dict={}\n",
    "    for market in market_dict.keys():\n",
    "        print('Start request',market.replace('_',' '),'data')\n",
    "        tickers = market_dict[market]\n",
    "        Data = get_Data(tickers, start, end)\n",
    "        date = Data.index.tolist()\n",
    "        norm_tb = norm_turb(Data)\n",
    "        mv_tb = pd.DataFrame({'norm_tb':norm_tb}).rolling(window=22).mean().values[22:]\n",
    "        date_tb = date[22:]\n",
    "        dat_tb = pd.DataFrame({'date':date_tb,market:[i[0] for i in list(mv_tb)]})\n",
    "        tb_dict[market] = dat_tb\n",
    "    temp = tb_dict[list(tb_dict.keys())[0]]\n",
    "    for market in list(tb_dict.keys())[1:]:\n",
    "        temp = temp.merge(tb_dict[market],how = 'outer',on='date')\n",
    "    return temp"
   ]
  },
  {
   "cell_type": "code",
   "execution_count": 206,
   "metadata": {},
   "outputs": [],
   "source": [
    "def get_ar_dataframe(asset_list,start,end):\n",
    "    tickers = asset_list\n",
    "    Data = get_Data(tickers,start, end)\n",
    "    date = Data.index.tolist()\n",
    "    date_ar = date[500:]\n",
    "    norm_ar = norm_AR(Data,tickers,500)\n",
    "    dat = pd.DataFrame({'date':date_ar,'AbsorptionRatio':norm_ar})\n",
    "    return dat"
   ]
  },
  {
   "cell_type": "code",
   "execution_count": 209,
   "metadata": {},
   "outputs": [
    {
     "name": "stdout",
     "output_type": "stream",
     "text": [
      "Start request Asset Classes data\n",
      "Start request US Sectors data\n",
      "Start request Developed Countries Stock data\n",
      "Start request Emerging Markets Stock data\n",
      "Start request Fixed Income data\n",
      "Start request FX data\n"
     ]
    },
    {
     "name": "stderr",
     "output_type": "stream",
     "text": [
      "C:\\Users\\Victor\\Anaconda3\\lib\\site-packages\\pandas\\core\\window.py:211: ComplexWarning:\n",
      "\n",
      "Casting complex values to real discards the imaginary part\n",
      "\n"
     ]
    }
   ],
   "source": [
    "Asset_Classes= ['SPY', 'EEM', 'EFA', 'EMB', 'IPE', 'DBC', 'GLD', 'USO', 'RWO', 'GII', 'DBV']\n",
    "US_Sectors = ['IYC','IYE','IYF','IYH','IYJ','IYK','IYM','IYR','IYW','IYZ'] \n",
    "Developed_Countries_Stock = ['EWA', 'EWU', 'EWC', 'EWH', 'EWL', 'EWD', 'EWS', 'EWJ', 'EWG', 'EWI', 'EWP', 'EWQ']\n",
    "Emerging_Markets_Stock = ['EWZ', 'EWW', 'EZA', 'EWY', 'GXC']\n",
    "Fixed_Income = ['SHY', 'IEI', 'IEF', 'TLH', 'TLT', 'BWX', 'CRED', 'JNK', 'LQD']\n",
    "FX= ['UUP', 'BZF', 'FXA', 'FXB', 'FXC', 'FXF', 'FXS', 'FXSG', 'FXY']\n",
    "\n",
    "market_dict = {'Asset_Classes':Asset_Classes,\n",
    "               'US_Sectors':US_Sectors,\n",
    "               'Developed_Countries_Stock':Developed_Countries_Stock,\n",
    "               'Emerging_Markets_Stock': Emerging_Markets_Stock,\n",
    "               'Fixed_Income':Fixed_Income,\n",
    "               'FX':FX}\n",
    "asset_list = []\n",
    "for key in list(market_dict.keys()):\n",
    "    asset_list += market_dict[key]\n",
    "today = dt.today().strftime(\"%Y-%m-%d\")\n",
    "start = '2000-01-01'\n",
    "end = today\n",
    "\n",
    "dat1 = get_tb_dataframe(market_dict,start,end)\n",
    "dat2 = get_ar_dataframe(asset_list,start,end)\n"
   ]
  },
  {
   "cell_type": "code",
   "execution_count": 210,
   "metadata": {},
   "outputs": [],
   "source": [
    "dat1.to_csv('Market.csv')\n",
    "dat2.to_csv('Ab_ratio.csv')"
   ]
  },
  {
   "cell_type": "code",
   "execution_count": 128,
   "metadata": {},
   "outputs": [],
   "source": [
    "import plotly\n",
    "import plotly as py\n",
    "import plotly.graph_objs as go\n",
    "plotly.tools.set_credentials_file(username='lxue10',api_key=\"F29SN8EVwOJKhZBoT3wG\")"
   ]
  },
  {
   "cell_type": "code",
   "execution_count": 140,
   "metadata": {},
   "outputs": [],
   "source": [
    "today = dt.today().strftime(\"%Y-%m-%d\")\n",
    "start = '2005-01-01'\n",
    "end = today\n",
    "tickers = ['SPY', 'EEM', 'EFA', 'EMB', 'IPE', 'DBC', 'GLD', 'USO', 'RWO', 'GII', 'DBV']\n",
    "dat = get_Data(tickers, start, end)\n",
    "norm_tb = norm_turb(dat)\n",
    "date =list(dat.index)\n",
    "mv_tb = pd.DataFrame({'norm_tb':norm_tb}).rolling(window=22).mean().values[22:]\n",
    "date_tb = date[22:]\n",
    "date_ar = date[500:]\n",
    "norm_ar = norm_AR(dat,tickers,500)"
   ]
  },
  {
   "cell_type": "code",
   "execution_count": 142,
   "metadata": {},
   "outputs": [
    {
     "name": "stdout",
     "output_type": "stream",
     "text": [
      "This is the format of your plot grid:\n",
      "[ (1,1) x1,y1 ]\n",
      "[ (2,1) x2,y2 ]\n",
      "\n"
     ]
    },
    {
     "name": "stderr",
     "output_type": "stream",
     "text": [
      "C:\\Users\\Victor\\Anaconda3\\lib\\site-packages\\IPython\\core\\display.py:689: UserWarning:\n",
      "\n",
      "Consider using IPython.display.IFrame instead\n",
      "\n"
     ]
    },
    {
     "data": {
      "text/html": [
       "<iframe id=\"igraph\" scrolling=\"no\" style=\"border:none;\" seamless=\"seamless\" src=\"https://plot.ly/~lxue10/89.embed\" height=\"525px\" width=\"100%\"></iframe>"
      ],
      "text/plain": [
       "<chart_studio.tools.PlotlyDisplay object>"
      ]
     },
     "execution_count": 142,
     "metadata": {},
     "output_type": "execute_result"
    }
   ],
   "source": [
    "from plotly import tools\n",
    "\n",
    "#Create traces\n",
    "trace0 = go.Scatter(\n",
    "    x = date_tb,\n",
    "    y = mv_tb,\n",
    "    mode = 'lines',\n",
    "    name = 'Turbulence'\n",
    ")\n",
    "trace1 = go.Scatter(\n",
    "    x = date_ar,\n",
    "    y  =norm_ar,\n",
    "    mode = 'lines',\n",
    "    name = 'Absorption Ratio'\n",
    ")\n",
    "fig = tools.make_subplots(rows=2,cols=1)\n",
    "fig.append_trace(trace0,1,1)\n",
    "fig.append_trace(trace1,2,1)\n",
    "\n",
    "fig['layout'].update(title='Turbulence & Absorption Ratio')\n",
    "\n",
    "\n",
    "#layout = dict(title='Turbulence',\n",
    "#             yaxis=dict(zeroline = False))\n",
    "#data = [trace0]\n",
    "#fig = go.Figure(data = data,layout = layout)\n",
    "py.plotly.iplot(fig)"
   ]
  },
  {
   "cell_type": "code",
   "execution_count": 12,
   "metadata": {},
   "outputs": [],
   "source": []
  }
 ],
 "metadata": {
  "hide_input": false,
  "kernelspec": {
   "display_name": "Python 3",
   "language": "python",
   "name": "python3"
  },
  "language_info": {
   "codemirror_mode": {
    "name": "ipython",
    "version": 3
   },
   "file_extension": ".py",
   "mimetype": "text/x-python",
   "name": "python",
   "nbconvert_exporter": "python",
   "pygments_lexer": "ipython3",
   "version": "3.7.1"
  },
  "toc": {
   "base_numbering": 1,
   "nav_menu": {},
   "number_sections": true,
   "sideBar": true,
   "skip_h1_title": false,
   "title_cell": "Table of Contents",
   "title_sidebar": "Contents",
   "toc_cell": false,
   "toc_position": {},
   "toc_section_display": true,
   "toc_window_display": false
  },
  "varInspector": {
   "cols": {
    "lenName": 16,
    "lenType": 16,
    "lenVar": 40
   },
   "kernels_config": {
    "python": {
     "delete_cmd_postfix": "",
     "delete_cmd_prefix": "del ",
     "library": "var_list.py",
     "varRefreshCmd": "print(var_dic_list())"
    },
    "r": {
     "delete_cmd_postfix": ") ",
     "delete_cmd_prefix": "rm(",
     "library": "var_list.r",
     "varRefreshCmd": "cat(var_dic_list()) "
    }
   },
   "position": {
    "height": "273.85px",
    "left": "556.967px",
    "right": "20px",
    "top": "115px",
    "width": "322.767px"
   },
   "types_to_exclude": [
    "module",
    "function",
    "builtin_function_or_method",
    "instance",
    "_Feature"
   ],
   "window_display": false
  }
 },
 "nbformat": 4,
 "nbformat_minor": 2
}
